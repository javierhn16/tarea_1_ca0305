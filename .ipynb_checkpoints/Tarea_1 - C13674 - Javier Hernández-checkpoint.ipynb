{
 "cells": [
  {
   "cell_type": "markdown",
   "id": "c2a4aa3b-6318-4ae8-9d9e-0fc66b21f4bd",
   "metadata": {},
   "source": [
    "# Tarea 1 - C13674 - Javier Hernández"
   ]
  },
  {
   "cell_type": "markdown",
   "id": "a81657e0-103f-4b09-aa54-08cfbcbf5d2a",
   "metadata": {},
   "source": [
    "## Ejercicio 1"
   ]
  },
  {
   "cell_type": "code",
   "execution_count": 287,
   "id": "e775b23c-7789-4b6a-b913-363d680bb7d9",
   "metadata": {},
   "outputs": [],
   "source": [
    "import random\n",
    "\n",
    "def partes_division():\n",
    "    \n",
    "    lista_aleatoria = [random.randint(1,100), random.randint(1,100) , random.randint(1,100)] \n",
    "    num_aleatorio = random.randint(1, 10) \n",
    "\n",
    "    dic_partes_division = {\n",
    "        \"Dividendo\": lista_aleatoria,\n",
    "        \"Divisor\": [num_aleatorio] * 3,\n",
    "        \"Cociente\": [lista_aleatoria[0] // num_aleatorio, \n",
    "                     lista_aleatoria[1] // num_aleatorio, \n",
    "                     lista_aleatoria[2] // num_aleatorio],\n",
    "        \"Residuo\": [lista_aleatoria[0] % num_aleatorio, \n",
    "                    lista_aleatoria[1] % num_aleatorio, \n",
    "                    lista_aleatoria[2] % num_aleatorio],\n",
    "    }\n",
    "    return dic_partes_division"
   ]
  },
  {
   "cell_type": "code",
   "execution_count": 289,
   "id": "7dd50638-edc0-4643-8b80-521d943c5f90",
   "metadata": {},
   "outputs": [
    {
     "data": {
      "text/plain": [
       "{'Dividendo': [13, 21, 95],\n",
       " 'Divisor': [10, 10, 10],\n",
       " 'Cociente': [1, 2, 9],\n",
       " 'Residuo': [3, 1, 5]}"
      ]
     },
     "execution_count": 289,
     "metadata": {},
     "output_type": "execute_result"
    }
   ],
   "source": [
    "# Prueba de la función\n",
    "partes_division()"
   ]
  },
  {
   "cell_type": "markdown",
   "id": "ff43a9d8-3a9b-4dff-9ca6-7ae109a0bfd4",
   "metadata": {},
   "source": [
    "## Ejercicio 2"
   ]
  },
  {
   "cell_type": "code",
   "execution_count": 136,
   "id": "c4f227de-1cb4-4337-9266-9e1e63bd5f33",
   "metadata": {},
   "outputs": [],
   "source": [
    "def contar_apariciones(cadena):\n",
    "    \n",
    "    palabras = cadena.split()\n",
    "    \n",
    "    dic_conteo_palabras = {\n",
    "        palabras[0]: cadena.count(palabras[0]),\n",
    "        palabras[1]: cadena.count(palabras[1]),\n",
    "        palabras[2]: cadena.count(palabras[2]),\n",
    "        palabras[3]: cadena.count(palabras[3]),\n",
    "        palabras[4]: cadena.count(palabras[4])\n",
    "    }\n",
    "    \n",
    "    return dic_conteo_palabras"
   ]
  },
  {
   "cell_type": "code",
   "execution_count": 290,
   "id": "ff18b2dd-ce90-4445-a1a5-719b4fa8406e",
   "metadata": {},
   "outputs": [
    {
     "data": {
      "text/plain": [
       "{'¡Hola!,': 1, '¿Cómo': 1, 'va': 1, 'todo?': 1, 'Éxitos': 1}"
      ]
     },
     "execution_count": 290,
     "metadata": {},
     "output_type": "execute_result"
    }
   ],
   "source": [
    "cadena = \"¡Hola!, ¿Cómo va todo? Éxitos\"\n",
    "\n",
    "contar_apariciones(cadena)"
   ]
  },
  {
   "cell_type": "markdown",
   "id": "892c7043-0641-4229-b52c-3bd80238b492",
   "metadata": {},
   "source": [
    "## Ejercicio 3"
   ]
  },
  {
   "cell_type": "code",
   "execution_count": 151,
   "id": "603313f6-ed7b-4140-b4cd-b58511ccd9ce",
   "metadata": {},
   "outputs": [],
   "source": [
    "def contar_signos_puntuacion(cadena):\n",
    "    \n",
    "    contador_signos = (cadena.count(\"¡\") \n",
    "    + cadena.count(\"!\") \n",
    "    + cadena.count(\",\") \n",
    "    + cadena.count(\"¿\") \n",
    "    + cadena.count(\"?\"))\n",
    "    \n",
    "    resultado = F'Hay {contador_signos} signos de puntuación.'\n",
    "    return resultado"
   ]
  },
  {
   "cell_type": "code",
   "execution_count": 152,
   "id": "98cdb31c-971c-49ed-b686-6aabdab4f120",
   "metadata": {},
   "outputs": [
    {
     "data": {
      "text/plain": [
       "'Hay 6 signos de puntuación.'"
      ]
     },
     "execution_count": 152,
     "metadata": {},
     "output_type": "execute_result"
    }
   ],
   "source": [
    "cadena = \"¡Hola!, ¿Cómo va todo?, Éxitos\"\n",
    "contar_signos_puntuacion(cadena)"
   ]
  },
  {
   "cell_type": "markdown",
   "id": "1c254218-ac44-49d7-b5f2-d0eb1eddb779",
   "metadata": {},
   "source": [
    "## Ejercicio 4"
   ]
  },
  {
   "cell_type": "code",
   "execution_count": 200,
   "id": "0a741b64-79bb-450b-9265-b65bceb4e931",
   "metadata": {},
   "outputs": [],
   "source": [
    "def buscar_cadena_mas_larga_con_caracter(texto, caracter):\n",
    "\n",
    "    palabras = texto.split()\n",
    "    \n",
    "    if (palabras[0].count(caracter) > 0 & len(palabras[0]) > len(palabras[1])):\n",
    "        return palabras[0]\n",
    "    elif (palabras[1].count(caracter) > 0 & len(palabras[0]) < len(palabras[1])):\n",
    "        return palabras[1]\n",
    "    elif (palabras[0].count(caracter) > 0 & len(palabras[0]) == len(palabras[1])):\n",
    "        return texto\n",
    "    else:\n",
    "        return \"No se encontró el caracter.\""
   ]
  },
  {
   "cell_type": "code",
   "execution_count": 188,
   "id": "b484b1ae-5976-473c-8bb0-c10b4d497763",
   "metadata": {},
   "outputs": [
    {
     "data": {
      "text/plain": [
       "'amigos'"
      ]
     },
     "execution_count": 188,
     "metadata": {},
     "output_type": "execute_result"
    }
   ],
   "source": [
    "# Prueba 1\n",
    "buscar_cadena_mas_larga_con_caracter(\"Ok amigos\", \"i\")"
   ]
  },
  {
   "cell_type": "code",
   "execution_count": 213,
   "id": "4429eb6c-38d0-4cf8-8d0c-da421e7e1c35",
   "metadata": {},
   "outputs": [
    {
     "data": {
      "text/plain": [
       "'mundo'"
      ]
     },
     "execution_count": 213,
     "metadata": {},
     "output_type": "execute_result"
    }
   ],
   "source": [
    "# Prueba 2\n",
    "buscar_cadena_mas_larga_con_caracter(\"Hola mundo\", \"o\")"
   ]
  },
  {
   "cell_type": "code",
   "execution_count": 215,
   "id": "53507284-1dea-4809-98ae-10f2049e4f7f",
   "metadata": {},
   "outputs": [
    {
     "data": {
      "text/plain": [
       "'bayesiana'"
      ]
     },
     "execution_count": 215,
     "metadata": {},
     "output_type": "execute_result"
    }
   ],
   "source": [
    "# Prueba 3\n",
    "buscar_cadena_mas_larga_con_caracter(\"Estadística bayesiana\", \"a\")\n",
    "\n",
    "### OJO ### OJO ###"
   ]
  },
  {
   "cell_type": "code",
   "execution_count": 211,
   "id": "477e2196-794e-4cda-97f3-8f79dfa2bd2d",
   "metadata": {},
   "outputs": [
    {
     "data": {
      "text/plain": [
       "2"
      ]
     },
     "execution_count": 211,
     "metadata": {},
     "output_type": "execute_result"
    }
   ],
   "source": [
    "prueba = \"Estadística bayesiana\"\n",
    "prueba.split()[0].count(\"a\")"
   ]
  },
  {
   "cell_type": "markdown",
   "id": "0efd3657-5cb7-49f4-96a9-9fbe54d372ba",
   "metadata": {},
   "source": [
    "## Ejercicio 5"
   ]
  },
  {
   "cell_type": "code",
   "execution_count": 229,
   "id": "10967200-d001-452f-bba6-2d57edbd132e",
   "metadata": {},
   "outputs": [],
   "source": [
    "def informacion_hospital(diccionario):\n",
    "    \n",
    "    # Edad media de los pacientes\n",
    "    edad_media = (diccionario[\"1\"][\"Edad\"] \n",
    "                       + diccionario[\"2\"][\"Edad\"]\n",
    "                       + diccionario[\"3\"][\"Edad\"]\n",
    "                       + diccionario[\"4\"][\"Edad\"]) / 4\n",
    "    \n",
    "    # Tipos de sangre registrados\n",
    "    tipos_de_sangre = [diccionario[\"1\"][\"Tipo sangre\"], \n",
    "                       diccionario[\"2\"][\"Tipo sangre\"],\n",
    "                       diccionario[\"3\"][\"Tipo sangre\"],\n",
    "                       diccionario[\"4\"][\"Tipo sangre\"]]\n",
    "    \n",
    "    # Cantidad de pacientes menores de edad\n",
    "    pacientes_menores_edad = 0\n",
    "    \n",
    "    if (diccionario[\"1\"][\"Edad\"] < 18):\n",
    "        pacientes_menores_edad += 1\n",
    "    elif(diccionario[\"2\"][\"Edad\"] < 18):\n",
    "        pacientes_menores_edad += 1\n",
    "    elif(diccionario[\"3\"][\"Edad\"] < 18):\n",
    "        pacientes_menores_edad += 1\n",
    "    elif(diccionario[\"4\"][\"Edad\"] < 18):\n",
    "        pacientes_menores_edad += 1\n",
    "    \n",
    "    # Cantidad de pacientes mayores de edad\n",
    "    pacientes_mayores_edad = 4 - pacientes_menores_edad \n",
    "\n",
    "    # Cantidad de pacientes actualmente internados\n",
    "    pacientes_internados = 0\n",
    "\n",
    "    if (diccionario[\"1\"][\"Fecha salida\"] == \"NA\"):\n",
    "        pacientes_internados += 1\n",
    "    elif(diccionario[\"2\"][\"Fecha salida\"] == \"NA\"):\n",
    "        pacientes_internados += 1\n",
    "    elif(diccionario[\"3\"][\"Fecha salida\"] == \"NA\"):\n",
    "        pacientes_internados += 1\n",
    "    elif(diccionario[\"4\"][\"Fecha salida\"] == \"NA\"):\n",
    "        pacientes_internados += 1\n",
    "    \n",
    "    dic_caracteristicas = {\n",
    "        \"Edad media\": edad_media,\n",
    "        \"Tipos de sangre registrados\": tipos_de_sangre,\n",
    "        \"Cantidad de pacientes menores de edad\": pacientes_menores_edad,\n",
    "        \"Cantidad de pacientes mayores de edad\": pacientes_mayores_edad,\n",
    "        \"Pacientes actualmente internados\": pacientes_internados\n",
    "    }\n",
    "    \n",
    "    return dic_caracteristicas"
   ]
  },
  {
   "cell_type": "markdown",
   "id": "14b0f09b-5ac4-4446-998b-ac1772a496f9",
   "metadata": {},
   "source": [
    "### Data 'Hospital Acetaminofén'"
   ]
  },
  {
   "cell_type": "code",
   "execution_count": 230,
   "id": "20e5cc3d-4bcb-442c-af7b-b25ba84665e5",
   "metadata": {},
   "outputs": [],
   "source": [
    "import datetime\n",
    "\n",
    "lista_pacientes = {\n",
    "    \"1\": {\n",
    "        \"Edad\": 23,\n",
    "        \"Tipo sangre\": \"-O\",\n",
    "        \"Fecha ingreso\": datetime.datetime(2023, 6, 1),\n",
    "        \"Fecha salida\": datetime.datetime(2023, 6, 15),\n",
    "        \"Nivel de emergencia\": 2,\n",
    "        \"Pago de servicios\": 502333\n",
    "    },\n",
    "    \"2\": {\n",
    "        \"Edad\": 7,\n",
    "        \"Tipo sangre\": \"AB+\",\n",
    "        \"Fecha ingreso\": datetime.datetime(2024, 1, 1),\n",
    "        \"Fecha salida\": \"NA\",\n",
    "        \"Nivel de emergencia\": 5,\n",
    "        \"Pago de servicios\": 0\n",
    "    },\n",
    "    \"3\": {\n",
    "        \"Edad\": 65,\n",
    "        \"Tipo sangre\": \"AB+\",\n",
    "        \"Fecha ingreso\": datetime.datetime(2023, 2, 1),\n",
    "        \"Fecha salida\": datetime.datetime(2024, 2, 1),\n",
    "        \"Nivel de emergencia\": 4,\n",
    "        \"Pago de servicios\": 28006000\n",
    "    },\n",
    "    \"4\": {\n",
    "        \"Edad\": 23,\n",
    "        \"Tipo sangre\": \"AB-\",\n",
    "        \"Fecha ingreso\": datetime.datetime(2024, 2, 1),\n",
    "        \"Fecha salida\": datetime.datetime(2024, 2, 1),\n",
    "        \"Nivel de emergencia\": 0,\n",
    "        \"Pago de servicios\": 200300\n",
    "    },\n",
    "}"
   ]
  },
  {
   "cell_type": "code",
   "execution_count": 231,
   "id": "0838eadb-6b18-4375-b876-98798ca1284c",
   "metadata": {},
   "outputs": [
    {
     "data": {
      "text/plain": [
       "{'Edad media': 29.5,\n",
       " 'Tipos de sangre registrados': ['-O', 'AB+', 'AB+', 'AB-'],\n",
       " 'Cantidad de pacientes menores de edad': 1,\n",
       " 'Cantidad de pacientes mayores de edad': 3,\n",
       " 'Pacientes actualmente internados': 1}"
      ]
     },
     "execution_count": 231,
     "metadata": {},
     "output_type": "execute_result"
    }
   ],
   "source": [
    "# Prueba de la función del ejercicio 5\n",
    "informacion_hospital(lista_pacientes)\n",
    "\n",
    "### OJO ### REVISAR TIPOS DE SANGRE ### ELIMINAR DUPLICADOS"
   ]
  },
  {
   "cell_type": "markdown",
   "id": "57c50420-88ff-4599-b6fd-698996ff1ed3",
   "metadata": {},
   "source": [
    "## Ejercicio 6"
   ]
  },
  {
   "cell_type": "markdown",
   "id": "899fe28b-da3f-40ae-9ebe-ae4787219d87",
   "metadata": {},
   "source": [
    "### Supuestos "
   ]
  },
  {
   "cell_type": "markdown",
   "id": "307109be-5be5-4a02-a1f1-4cfac6aac51d",
   "metadata": {},
   "source": [
    "1. Si un paciente sigue internado al día de hoy, se le asigna \"NA\" en la fecha de salida.\n",
    "2. "
   ]
  },
  {
   "cell_type": "code",
   "execution_count": 315,
   "id": "2c95d4a5-5951-4390-8c31-197196a7184e",
   "metadata": {},
   "outputs": [],
   "source": [
    "import math\n",
    "\n",
    "# Tiempo que estuvo hospitalizado cada paciente\n",
    "tiempo_paciente_1 = lista_pacientes[\"1\"][\"Fecha salida\"] - lista_pacientes[\"1\"][\"Fecha ingreso\"] \n",
    "tiempo_paciente_2 = datetime.datetime.now() - lista_pacientes[\"2\"][\"Fecha ingreso\"] \n",
    "tiempo_paciente_3 = lista_pacientes[\"3\"][\"Fecha salida\"] - lista_pacientes[\"3\"][\"Fecha ingreso\"] \n",
    "tiempo_paciente_4 = lista_pacientes[\"4\"][\"Fecha salida\"] - lista_pacientes[\"4\"][\"Fecha ingreso\"] \n",
    "\n",
    "# Función para calcular el pago correspondiente de cada paciente sin impuestos\n",
    "def calcular_pago(tiempo_hospitalizado):\n",
    "    if (tiempo_hospitalizado.days < 1):\n",
    "        monto_sin_impuestos = 8000\n",
    "    elif (tiempo_hospitalizado.days < 30):\n",
    "        monto_sin_impuestos = 15000 * math.ceil(tiempo_hospitalizado.days) # Dado que siempre se cobra el día de salida\n",
    "    else:\n",
    "        monto_sin_impuestos = 1000000 * math.floor(tiempo_hospitalizado.days/30) # REVISAR\n",
    "    return monto_sin_impuestos\n",
    "\n",
    "# Función para calcular el IVA al monto sin impuestos\n",
    "def calcular_iva(monto_sin_impuestos):\n",
    "    monto_con_impuestos = monto_sin_impuestos * 0.13\n",
    "    return (monto_con_impuestos)\n",
    "\n",
    "# Calcula subtotales de cada paciente (sin impuestos)\n",
    "subtotal_paciente_1 = calcular_pago(tiempo_paciente_1)\n",
    "subtotal_paciente_2 = calcular_pago(tiempo_paciente_2)\n",
    "subtotal_paciente_3 = calcular_pago(tiempo_paciente_3)\n",
    "subtotal_paciente_4 = calcular_pago(tiempo_paciente_4)\n",
    "\n",
    "# Calcula el IVA de cada paciente\n",
    "iva_paciente_1 = calcular_iva(subtotal_paciente_1)\n",
    "iva_paciente_2 = calcular_iva(subtotal_paciente_2)\n",
    "iva_paciente_3 = calcular_iva(subtotal_paciente_3)\n",
    "iva_paciente_4 = calcular_iva(subtotal_paciente_4)\n",
    "\n",
    "dic_pagos = {\n",
    "    \"Paciente 1\": {\n",
    "        \"Subtotal\": subtotal_paciente_1,\n",
    "        \"IVA\": iva_paciente_1,\n",
    "        \"Total\": subtotal_paciente_1 + iva_paciente_1,\n",
    "        \"Monto pagado\": lista_pacientes[\"1\"][\"Pago de servicios\"],\n",
    "        \"Vuelto\": lista_pacientes[\"1\"][\"Pago de servicios\"] - subtotal_paciente_1 + iva_paciente_1\n",
    "    }, \n",
    "    \"Paciente 2\": {\n",
    "        \"Subtotal\": 0,\n",
    "        \"IVA\": 0,\n",
    "        \"Total\": 0,\n",
    "        \"Monto pagado\": 0,\n",
    "        \"Vuelto\": 0\n",
    "    },\n",
    "    \"Paciente 3\": {\n",
    "        \"Subtotal\": subtotal_paciente_3,\n",
    "        \"IVA\": iva_paciente_3,\n",
    "        \"Total\": subtotal_paciente_3 + iva_paciente_3,\n",
    "        \"Monto pagado\": lista_pacientes[\"3\"][\"Pago de servicios\"],\n",
    "        \"Vuelto\": lista_pacientes[\"3\"][\"Pago de servicios\"] - subtotal_paciente_3 + iva_paciente_3\n",
    "    },\n",
    "    \"Paciente 4\": {\n",
    "        \"Subtotal\": subtotal_paciente_4,\n",
    "        \"IVA\": iva_paciente_4,\n",
    "        \"Total\": subtotal_paciente_4 + iva_paciente_4,\n",
    "        \"Monto pagado\": lista_pacientes[\"4\"][\"Pago de servicios\"],\n",
    "        \"Vuelto\": lista_pacientes[\"4\"][\"Pago de servicios\"] - subtotal_paciente_4 + iva_paciente_4\n",
    "    },\n",
    "}    "
   ]
  },
  {
   "cell_type": "code",
   "execution_count": 314,
   "id": "be6a193d-5847-4b8c-a03b-8068e054e000",
   "metadata": {},
   "outputs": [
    {
     "name": "stdout",
     "output_type": "stream",
     "text": [
      "{'Paciente 1': {'Subtotal': 210000, 'IVA': 27300.0, 'Total': 237300.0, 'Monto pagado': 502333, 'Vuelto': 319633.0}, '\\\\ Paciente 2': {'Subtotal': 0, 'IVA': 0, 'Total': 0, 'Monto pagado': 0, 'Vuelto': 0}, 'Paciente 3': {'Subtotal': 12000000, 'IVA': 1560000.0, 'Total': 13560000.0, 'Monto pagado': 28006000, 'Vuelto': 17566000.0}, 'Paciente 4': {'Subtotal': 8000, 'IVA': 1040.0, 'Total': 9040.0, 'Monto pagado': 200300, 'Vuelto': 193340.0}}\n"
     ]
    }
   ],
   "source": [
    "# Imprime diccionario con los montos\n",
    "print(dic_pagos)"
   ]
  },
  {
   "cell_type": "markdown",
   "id": "45808c16-b755-47ac-9b53-94fe5e867621",
   "metadata": {},
   "source": [
    "## Ejercicio 7"
   ]
  },
  {
   "cell_type": "code",
   "execution_count": 291,
   "id": "69a0d012-cf3e-447c-a76f-7b681ac1608d",
   "metadata": {},
   "outputs": [],
   "source": [
    "def estimador_prima():\n",
    "    \n",
    "    # Inicializa diccionario con las clases de seguros y porcentajes de prima mensual\n",
    "    seguros = {\n",
    "        \"Automóviles comunes\": 0.03,\n",
    "        \"Carros para Uber\": 0.05,\n",
    "        \"Motocicletas\": 0.055,\n",
    "        \"Camión de carga liviana o pesada\": 0.04,\n",
    "        \"Buses\": 0.05,\n",
    "        \"Embarcaciones\": 0.05\n",
    "    }\n",
    "    "
   ]
  },
  {
   "cell_type": "markdown",
   "id": "1775b795-4fb6-43c1-8e2a-744146a406c7",
   "metadata": {},
   "source": [
    "## Ejercicio 8"
   ]
  },
  {
   "cell_type": "code",
   "execution_count": 346,
   "id": "c60ed3ca-b232-4dfb-8134-950842115baf",
   "metadata": {},
   "outputs": [],
   "source": [
    "def credito_empresarial(empresa, monto_solicitado, plazo, moneda, rating, garantia):\n",
    "\n",
    "    # Inicializa diccionario con las calificaciones de Rating\n",
    "    tasa_por_calificacion = {\n",
    "        \"AAA\": 0.064,\n",
    "        \"AA\": 0.064,\n",
    "        \"A\": 0.064,\n",
    "        \"BBB\": 0.084,\n",
    "        \"BB\": 0.064,\n",
    "        \"B\": 0.064,\n",
    "        \"C\": 0.15,\n",
    "        \"D\": 0.25\n",
    "    }\n",
    "    \n",
    "    # Selecciona la tasa a utilizar según la calificación del cliente\n",
    "    tasa_base = tasa_por_calificacion.get(rating)\n",
    "\n",
    "    # Agrega comisión obligatoria en caso de utilizar una moneda extranjera\n",
    "    if (moneda != \"colones\"):\n",
    "        tasa_extranjera = 0.035\n",
    "    else:\n",
    "        tasa_extranjera = 0\n",
    "\n",
    "    # Aplica disminución en la tasa al tener garantía\n",
    "    # Calcula porcentaje del préstamo con respecto al valor de la garantía (Loan to value)\n",
    "    if (garantia > 0):\n",
    "        tasa_preferencial = -0.01\n",
    "        ltv = monto_solicitado / garantia\n",
    "    else:\n",
    "        tasa_preferencial = 0\n",
    "        ltv = \"NA\"\n",
    "\n",
    "    # Calcula la tasa neta\n",
    "    tasa_neta = tasa_base + tasa_extranjera + tasa_preferencial\n",
    "\n",
    "    # Calcula la comisión por formalización\n",
    "    comision = monto_solicitado * 0.05\n",
    "\n",
    "    # Calcula la cantidad de meses a pagar\n",
    "    cantidad_meses = plazo * 12\n",
    "\n",
    "    # Calcula la cuota mensual\n",
    "    intereses = monto_solicitado * tasa_neta * 30\n",
    "    cuota_mensual = (monto_solicitado + intereses) / cantidad_meses\n",
    "\n",
    "    informacion_credito = {\n",
    "        \"Empresa\": empresa,\n",
    "        \"Calificación del cliente\": rating,\n",
    "        \"Tasa de interés base\": f'{round(tasa_base * 100, 2)}%',\n",
    "        \"Moneda del préstamos\": moneda,\n",
    "        \"Tasa preferencial\": f'{round(tasa_preferencial * 100, 2)}%',\n",
    "        \"Tasa por moneda extranjera\": f'+{round(tasa_extranjera * 100, 2)}%',\n",
    "        \"Tasa neta\": f'{round(tasa_neta  * 100, 2)}%',\n",
    "        \"Monto préstamo solicitado\": monto_solicitado,\n",
    "        \"Comisiones\": comision,\n",
    "        \"Monto préstamo total\": monto_solicitado + intereses + comision,\n",
    "        \"LTV\": f'{round(ltv  * 100, 2)}%',\n",
    "        \"Cantidad de meses a pagar\": cantidad_meses,\n",
    "        \"Cuota mensual\": round(cuota_mensual,2)\n",
    "    }\n",
    "    return informacion_credito"
   ]
  },
  {
   "cell_type": "code",
   "execution_count": 347,
   "id": "61c7f5cc-a69b-4bfd-8007-f8d46ba257f1",
   "metadata": {},
   "outputs": [
    {
     "data": {
      "text/plain": [
       "{'Empresa': 'Hospital Acetaminofén',\n",
       " 'Calificación del cliente': 'A',\n",
       " 'Tasa de interés base': '6.4%',\n",
       " 'Moneda del préstamos': 'dólares',\n",
       " 'Tasa preferencial': '-1.0%',\n",
       " 'Tasa por moneda extranjera': '+3.5%',\n",
       " 'Tasa neta': '8.9%',\n",
       " 'Monto préstamo solicitado': 1200000,\n",
       " 'Comisiones': 60000.0,\n",
       " 'Monto préstamo total': 4464000.0,\n",
       " 'LTV': '80.0%',\n",
       " 'Cantidad de meses a pagar': 360,\n",
       " 'Cuota mensual': 12233.33}"
      ]
     },
     "execution_count": 347,
     "metadata": {},
     "output_type": "execute_result"
    }
   ],
   "source": [
    "# Prueba crédito empresarial\n",
    "credito_empresarial(\"Hospital Acetaminofén\", 1200000, 30, \"dólares\", \"A\", 1500000)"
   ]
  },
  {
   "cell_type": "markdown",
   "id": "7f5f2722-e117-4a7c-b32a-0cff77bf0b65",
   "metadata": {},
   "source": [
    "## Ejercicio 9"
   ]
  },
  {
   "cell_type": "code",
   "execution_count": 5,
   "id": "612b9a65-0d1a-49d4-9676-337bf8ae5f54",
   "metadata": {},
   "outputs": [],
   "source": [
    "with open('Subir_GitHub.txt', 'w') as f:\n",
    "    f.write('Mi tarea es Tarea_1 - C13674. Ejercicio 8 ¡Facilito!')"
   ]
  },
  {
   "cell_type": "code",
   "execution_count": null,
   "id": "22459551-c85b-4986-a75c-b296df5a92de",
   "metadata": {},
   "outputs": [],
   "source": []
  }
 ],
 "metadata": {
  "kernelspec": {
   "display_name": "Python 3 (ipykernel)",
   "language": "python",
   "name": "python3"
  },
  "language_info": {
   "codemirror_mode": {
    "name": "ipython",
    "version": 3
   },
   "file_extension": ".py",
   "mimetype": "text/x-python",
   "name": "python",
   "nbconvert_exporter": "python",
   "pygments_lexer": "ipython3",
   "version": "3.11.7"
  }
 },
 "nbformat": 4,
 "nbformat_minor": 5
}
